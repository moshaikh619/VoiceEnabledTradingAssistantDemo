{
 "cells": [
  {
   "cell_type": "code",
   "execution_count": 1,
   "id": "db417238-0ef7-4e57-a96c-980a9eabb9a6",
   "metadata": {},
   "outputs": [
    {
     "ename": "SyntaxError",
     "evalue": "invalid syntax (747823750.py, line 1)",
     "output_type": "error",
     "traceback": [
      "\u001b[1;36m  Cell \u001b[1;32mIn[1], line 1\u001b[1;36m\u001b[0m\n\u001b[1;33m    pip install SpeechRecognition pyttsx3 requests\u001b[0m\n\u001b[1;37m        ^\u001b[0m\n\u001b[1;31mSyntaxError\u001b[0m\u001b[1;31m:\u001b[0m invalid syntax\n"
     ]
    }
   ],
   "source": [
    "pip install SpeechRecognition pyttsx3 requests\n",
    "pip install pyaudio\n"
   ]
  },
  {
   "cell_type": "code",
   "execution_count": 1,
   "id": "28b3246e-fffb-481e-a747-26558b55128d",
   "metadata": {},
   "outputs": [
    {
     "name": "stdout",
     "output_type": "stream",
     "text": [
      "Welcome to the Voice-Enabled Trading Platform Simulation. How can I help?\n",
      "Listening... (speak now!)\n",
      "Recognized: check price\n",
      "Which stock do you want to check?\n",
      "Listening... (speak now!)\n",
      "Recognized: Google\n",
      "The current price of GOOGLE is $2750.0.\n",
      "Listening... (speak now!)\n",
      "Recognized: buy stock\n",
      "Which stock do you want to Buy?\n",
      "Listening... (speak now!)\n",
      "\n",
      "How many shares of  would you like to Buy?\n",
      "Buying twenty shares of  now!\n",
      "Executed Buy of 20 shares of .\n",
      "Listening... (speak now!)\n",
      "Recognized: exit\n",
      "Thank you for using the Voice-Enabled Trading Platform. Goodbye!\n"
     ]
    }
   ],
   "source": [
    "\n",
    "import speech_recognition as sr\n",
    "import pyttsx3\n",
    "import requests\n",
    "import webbrowser\n",
    "\n",
    "# Initialize tts\n",
    "recognizer = sr.Recognizer()\n",
    "tts = pyttsx3.init()\n",
    "\n",
    "#  stock price retrieval\n",
    "def get_stock_price(stock_symbol):\n",
    "    # Simulate getting a stock price from an API\n",
    "    mock_prices = {\n",
    "        \"APPLE\": 150.00,\n",
    "        \"GOOGLE\": 2750.00,\n",
    "        \"AMAZON\": 3300.00,\n",
    "        \"MICROSOFT\": 300.00\n",
    "    }\n",
    "    return mock_prices.get(stock_symbol.upper(), \"Stock not found\")\n",
    "\n",
    "#  trade execution\n",
    "def execute_trade(stock_symbol, action, quantity):\n",
    "    return f\"Executed {action} of {quantity} shares of {stock_symbol}.\"\n",
    "\n",
    "#  speaking and print \n",
    "def speak_text(text):\n",
    "    print(text)\n",
    "    tts.say(text)\n",
    "    tts.runAndWait()\n",
    "\n",
    "# recognize speech input\n",
    "def recognize_speech():\n",
    "    with sr.Microphone() as source:\n",
    "        print(\"Listening... (speak now!)\")\n",
    "        audio = recognizer.listen(source)\n",
    "        try:\n",
    "            command = recognizer.recognize_google(audio)\n",
    "            print(f\"Recognized: {command}\")\n",
    "            return command.lower()\n",
    "        except sr.UnknownValueError:\n",
    "            speak_text(\"\")\n",
    "            return \"\"\n",
    "        except sr.RequestError:\n",
    "            speak_text(\"\")\n",
    "            return \"\"\n",
    "\n",
    "# Main function to handle commands\n",
    "def main():\n",
    "    speak_text(\"Welcome to the Voice-Enabled Trading Platform Simulation. How can I help?\")\n",
    "    \n",
    "    while True:\n",
    "        command = recognize_speech()\n",
    "\n",
    "        if \"check price\" in command:\n",
    "            speak_text(\"Which stock do you want to check?\")\n",
    "            stock_symbol = recognize_speech()\n",
    "            price = get_stock_price(stock_symbol)\n",
    "            speak_text(f\"The current price of {stock_symbol.upper()} is ${price}.\")\n",
    "        \n",
    "        elif \"buy stock\" in command or \"sell stock\" in command:\n",
    "            action = \"Buy\" if \"buy stock\" in command else \"Sell\"\n",
    "            speak_text(f\"Which stock do you want to {action}?\")\n",
    "            stock_symbol = recognize_speech()\n",
    "            speak_text(f\"How many shares of {stock_symbol.upper()} would you like to {action}?\")\n",
    "            speak_text(f\"{action}ing twenty shares of {stock_symbol.upper()} now!\")\n",
    "            quantity = 20\n",
    "            \n",
    "            try:\n",
    "                quantity = int(quantity)\n",
    "                result = execute_trade(stock_symbol, action, quantity)\n",
    "                speak_text(result)\n",
    "            except ValueError:\n",
    "                speak_text(\"\")\n",
    "\n",
    "        elif \"open google\" in command:          \n",
    "            webbrowser.open('http://google.com') \n",
    "\n",
    "        elif \"google\" in command:          \n",
    "            speak_text(\"Google what?\")\n",
    "            srcstring = recognize_speech()\n",
    "            webbrowser.open(f'https://www.google.com/search?q={srcstring}')\n",
    "        \n",
    "        elif \"exit\" in command:\n",
    "            speak_text(\"Thank you for using the Voice-Enabled Trading Platform. Goodbye!\")\n",
    "            break\n",
    "        \n",
    "        else:\n",
    "            speak_text(\"\")\n",
    "\n",
    "if __name__ == \"__main__\":\n",
    "    main()\n"
   ]
  },
  {
   "cell_type": "code",
   "execution_count": null,
   "id": "bedb7c78-1622-4904-9b79-8a3090dca699",
   "metadata": {},
   "outputs": [],
   "source": []
  },
  {
   "cell_type": "code",
   "execution_count": null,
   "id": "78effc82-062e-4836-bb54-35af7b8b9a06",
   "metadata": {},
   "outputs": [],
   "source": []
  },
  {
   "cell_type": "code",
   "execution_count": null,
   "id": "21fe95ad-d371-422a-ace5-9c1c7483eb1a",
   "metadata": {},
   "outputs": [],
   "source": []
  },
  {
   "cell_type": "code",
   "execution_count": null,
   "id": "3fdc4e75-1a3b-464f-a920-b12cd7d34d0f",
   "metadata": {},
   "outputs": [],
   "source": []
  }
 ],
 "metadata": {
  "kernelspec": {
   "display_name": "Python 3 (ipykernel)",
   "language": "python",
   "name": "python3"
  },
  "language_info": {
   "codemirror_mode": {
    "name": "ipython",
    "version": 3
   },
   "file_extension": ".py",
   "mimetype": "text/x-python",
   "name": "python",
   "nbconvert_exporter": "python",
   "pygments_lexer": "ipython3",
   "version": "3.12.4"
  }
 },
 "nbformat": 4,
 "nbformat_minor": 5
}
