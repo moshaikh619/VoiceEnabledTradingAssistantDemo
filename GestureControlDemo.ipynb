{
 "cells": [
  {
   "cell_type": "code",
   "execution_count": null,
   "id": "964f0eea-29ca-43ad-8696-59e2e12fbb9b",
   "metadata": {},
   "outputs": [],
   "source": [
    "pip install opencv-contrib-python\n",
    "pip install numpy\n",
    "pip install Hand-Tracking-Module\n",
    "pip install Mediapipe\n",
    "pip install SpeechRecognition pyttsx3 requests\n",
    "pip install pyaudio\n"
   ]
  },
  {
   "cell_type": "code",
   "execution_count": 5,
   "id": "03c1e345-2066-4f64-afc3-eb0420fc7641",
   "metadata": {},
   "outputs": [
    {
     "name": "stdout",
     "output_type": "stream",
     "text": [
      "Starting gesture recognition...\n",
      "Next\n",
      "Next\n",
      "Next\n",
      "Previous\n",
      "Previous\n"
     ]
    }
   ],
   "source": [
    "# testing gesture control\n",
    "\n",
    "from cvzone.HandTrackingModule import HandDetector\n",
    "import cv2\n",
    "import os\n",
    "import numpy as np\n",
    "import pyttsx3\n",
    "\n",
    "tts = pyttsx3.init()\n",
    "\n",
    "#  speaking and print \n",
    "def speak_text(text):\n",
    "    print(text)\n",
    "    tts.say(text)\n",
    "    tts.runAndWait()\n",
    "\n",
    "\n",
    "print(\"Starting gesture recognition...\")\n",
    "\n",
    "\n",
    "width, height = 1000, 800\n",
    "gestureThreshold = 300\n",
    "# Camera Setup\n",
    "cam = cv2.VideoCapture(0)\n",
    "cam.set(3, width)\n",
    "cam.set(4, height) \n",
    "# Hand Detector\n",
    "detectorHand = HandDetector(detectionCon=0.8, maxHands=1)\n",
    "# Variables\n",
    "delay = 30\n",
    "buttonPressed = False\n",
    "counter = 0\n",
    "\n",
    "\n",
    "while True:\n",
    "    # Get image frame\n",
    "    success, img = cam.read()\n",
    "    # Find the hand and its landmarks\n",
    "    hands, img = detectorHand.findHands(img)  # with draw\n",
    "    if hands and buttonPressed is False:  # If hand is detected\n",
    "        hand = hands[0]\n",
    "        cx, cy = hand[\"center\"]\n",
    "        lmList = hand[\"lmList\"]  # List of 21 Landmark points\n",
    "        fin = detectorHand.fingersUp(hand)  \n",
    "        if cy <= gestureThreshold:  # If hand is at the height of the face\n",
    "           \n",
    "            if fin == [1, 1, 1, 1, 1]: \n",
    "                #print(\"Next\")\n",
    "                speak_text(\"Next\")\n",
    "                buttonPressed = True\n",
    "               \n",
    "            if fin == [1, 0, 0, 0, 0]:\n",
    "                #print(\"Previous\")\n",
    "                speak_text(\"Previous\")\n",
    "                buttonPressed = True\n",
    "              \n",
    " \n",
    "    if buttonPressed:\n",
    "        counter += 1\n",
    "        if counter > delay:\n",
    "            counter = 0\n",
    "            buttonPressed = False\n",
    "\n",
    " \n",
    "    cv2.imshow(\"GestureRecognition\", img)\n",
    " \n",
    "    key = cv2.waitKey(1)\n",
    "    if key == ord('q'): # press q to quit\n",
    "        cv2.destroyAllWindows()\n",
    "        break\n",
    "\n"
   ]
  },
  {
   "cell_type": "code",
   "execution_count": null,
   "id": "4d0e4121-0548-411e-bfc4-bba6a15c0706",
   "metadata": {},
   "outputs": [],
   "source": []
  }
 ],
 "metadata": {
  "kernelspec": {
   "display_name": "Python 3 (ipykernel)",
   "language": "python",
   "name": "python3"
  },
  "language_info": {
   "codemirror_mode": {
    "name": "ipython",
    "version": 3
   },
   "file_extension": ".py",
   "mimetype": "text/x-python",
   "name": "python",
   "nbconvert_exporter": "python",
   "pygments_lexer": "ipython3",
   "version": "3.12.4"
  }
 },
 "nbformat": 4,
 "nbformat_minor": 5
}
